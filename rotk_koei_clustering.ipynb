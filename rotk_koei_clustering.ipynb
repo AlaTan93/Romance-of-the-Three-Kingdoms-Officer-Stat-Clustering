{
 "cells": [
  {
   "cell_type": "code",
   "execution_count": 3,
   "id": "47efefa2-cab8-47f1-8c28-e561038824c8",
   "metadata": {},
   "outputs": [],
   "source": [
    "import pandas as pd\n",
    "import numpy as np\n",
    "import matplotlib.pyplot as plt\n",
    "import seaborn as sns\n",
    "\n",
    "#Get rid of warnings\n",
    "import warnings\n",
    "from sklearn.exceptions import DataConversionWarning\n",
    "warnings.filterwarnings(action='ignore', category=DataConversionWarning)"
   ]
  },
  {
   "cell_type": "code",
   "execution_count": 4,
   "id": "104fd80a-675d-4e18-9251-d09501feff77",
   "metadata": {},
   "outputs": [
    {
     "name": "stdout",
     "output_type": "stream",
     "text": [
      "General Data Check:\n",
      "           Name Kingdom  Age at Death  LEA  STR  INT  POL  CHA\n",
      "0  Bao Sanniang     Shu            50   75   85   49   46   74\n",
      "1     Cai Wenji     Wei            81   21   16   78   80   85\n",
      "2       Cao Cao     Wei            65   99   73   93   97   96\n",
      "3        Cao Pi     Wei            39   70   71   81   85   73\n",
      "4       Cao Ren     Wei            55   92   86   59   51   76\n",
      "Number of Rows: 93\n",
      "NA/NULL count:\n",
      "Name            0\n",
      "Kingdom         0\n",
      "Age at Death    0\n",
      "LEA             0\n",
      "STR             0\n",
      "INT             0\n",
      "POL             0\n",
      "CHA             0\n",
      "dtype: int64\n"
     ]
    }
   ],
   "source": [
    "# Check if there are null/na values to deal with\n",
    "filename = \"rotk_playable.csv\"\n",
    "\n",
    "pd_dataset = pd.read_csv(filename)\n",
    "print(\"General Data Check:\")\n",
    "print(pd_dataset.head())\n",
    "print(\"Number of Rows:\", len(pd_dataset))"
   ]
  },
  {
   "cell_type": "code",
   "execution_count": null,
   "id": "b6abd147-b50b-4467-a963-043e22cee9ad",
   "metadata": {},
   "outputs": [],
   "source": [
    "from sklearn.decomposition import PCA\n",
    "from sklearn.metrics.pairwise import euclidean_distances, cosine_similarity\n",
    "\n",
    "for i in range(15, 1, -1):\n",
    "    pca = PCA(n_components=2)\n",
    "    pd_pca = pca.fit_transform(pd_dataset_clean)    \n",
    "\n",
    "    # Approximate explained variance ratio    \n",
    "    print(f\"PCA with {i} components variance:\", pca.explained_variance_ratio_.sum())        \n",
    "\n",
    "    # Compute pairwise distances before and after projection\n",
    "    orig_dist = euclidean_distances(pd_dataset_clean)\n",
    "    proj_dist = euclidean_distances(pd_pca)\n",
    "    \n",
    "    # Compare distance matrices\n",
    "    correlation = np.corrcoef(orig_dist.ravel(), proj_dist.ravel())[0, 1]\n",
    "    print(f\"Correlation between original and projected distances: {correlation:.8f}\")"
   ]
  }
 ],
 "metadata": {
  "kernelspec": {
   "display_name": "Python 3 (ipykernel)",
   "language": "python",
   "name": "python3"
  },
  "language_info": {
   "codemirror_mode": {
    "name": "ipython",
    "version": 3
   },
   "file_extension": ".py",
   "mimetype": "text/x-python",
   "name": "python",
   "nbconvert_exporter": "python",
   "pygments_lexer": "ipython3",
   "version": "3.13.2"
  }
 },
 "nbformat": 4,
 "nbformat_minor": 5
}
